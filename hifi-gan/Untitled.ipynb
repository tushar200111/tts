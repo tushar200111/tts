{
 "cells": [
  {
   "cell_type": "code",
   "execution_count": 1,
   "id": "5eb44ba9-9fc1-44d2-8f54-b712c2e9c42e",
   "metadata": {},
   "outputs": [],
   "source": [
    "from stft import STFT"
   ]
  }
 ],
 "metadata": {
  "kernelspec": {
   "display_name": "Python 3 (ipykernel)",
   "language": "python",
   "name": "python3"
  },
  "language_info": {
   "codemirror_mode": {
    "name": "ipython",
    "version": 3
   },
   "file_extension": ".py",
   "mimetype": "text/x-python",
   "name": "python",
   "nbconvert_exporter": "python",
   "pygments_lexer": "ipython3",
   "version": "3.11.4"
  }
 },
 "nbformat": 4,
 "nbformat_minor": 5
}
